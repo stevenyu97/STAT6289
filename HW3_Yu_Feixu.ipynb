{
 "cells": [
  {
   "cell_type": "code",
   "execution_count": 1,
   "metadata": {},
   "outputs": [],
   "source": [
    "import math\n",
    "import os\n",
    "import torch\n",
    "import torchvision\n",
    "import matplotlib.pyplot as plt\n",
    "import pandas as pd\n",
    "import numpy as np\n",
    "import torch\n",
    "import torch.nn as nn\n",
    "from torch.utils.data import DataLoader"
   ]
  },
  {
   "cell_type": "code",
   "execution_count": 2,
   "metadata": {},
   "outputs": [
    {
     "name": "stdout",
     "output_type": "stream",
     "text": [
      "Number of rows and columns: (1259, 7)\n"
     ]
    },
    {
     "data": {
      "text/html": [
       "<div>\n",
       "<style scoped>\n",
       "    .dataframe tbody tr th:only-of-type {\n",
       "        vertical-align: middle;\n",
       "    }\n",
       "\n",
       "    .dataframe tbody tr th {\n",
       "        vertical-align: top;\n",
       "    }\n",
       "\n",
       "    .dataframe thead th {\n",
       "        text-align: right;\n",
       "    }\n",
       "</style>\n",
       "<table border=\"1\" class=\"dataframe\">\n",
       "  <thead>\n",
       "    <tr style=\"text-align: right;\">\n",
       "      <th></th>\n",
       "      <th>Date</th>\n",
       "      <th>Open</th>\n",
       "      <th>High</th>\n",
       "      <th>Low</th>\n",
       "      <th>Close</th>\n",
       "      <th>Adj Close</th>\n",
       "      <th>Volume</th>\n",
       "    </tr>\n",
       "  </thead>\n",
       "  <tbody>\n",
       "    <tr>\n",
       "      <th>0</th>\n",
       "      <td>2015-07-10</td>\n",
       "      <td>52.444000</td>\n",
       "      <td>52.599998</td>\n",
       "      <td>51.563999</td>\n",
       "      <td>51.830002</td>\n",
       "      <td>51.830002</td>\n",
       "      <td>13054500</td>\n",
       "    </tr>\n",
       "    <tr>\n",
       "      <th>1</th>\n",
       "      <td>2015-07-13</td>\n",
       "      <td>52.450001</td>\n",
       "      <td>52.509998</td>\n",
       "      <td>51.209999</td>\n",
       "      <td>52.431999</td>\n",
       "      <td>52.431999</td>\n",
       "      <td>14801500</td>\n",
       "    </tr>\n",
       "    <tr>\n",
       "      <th>2</th>\n",
       "      <td>2015-07-14</td>\n",
       "      <td>52.419998</td>\n",
       "      <td>53.198002</td>\n",
       "      <td>52.102001</td>\n",
       "      <td>53.130001</td>\n",
       "      <td>53.130001</td>\n",
       "      <td>9538000</td>\n",
       "    </tr>\n",
       "    <tr>\n",
       "      <th>3</th>\n",
       "      <td>2015-07-15</td>\n",
       "      <td>53.348000</td>\n",
       "      <td>53.498001</td>\n",
       "      <td>52.416000</td>\n",
       "      <td>52.627998</td>\n",
       "      <td>52.627998</td>\n",
       "      <td>10108000</td>\n",
       "    </tr>\n",
       "    <tr>\n",
       "      <th>4</th>\n",
       "      <td>2015-07-16</td>\n",
       "      <td>52.844002</td>\n",
       "      <td>53.439999</td>\n",
       "      <td>52.632000</td>\n",
       "      <td>53.335999</td>\n",
       "      <td>53.335999</td>\n",
       "      <td>8080000</td>\n",
       "    </tr>\n",
       "    <tr>\n",
       "      <th>...</th>\n",
       "      <td>...</td>\n",
       "      <td>...</td>\n",
       "      <td>...</td>\n",
       "      <td>...</td>\n",
       "      <td>...</td>\n",
       "      <td>...</td>\n",
       "      <td>...</td>\n",
       "    </tr>\n",
       "    <tr>\n",
       "      <th>1254</th>\n",
       "      <td>2020-07-02</td>\n",
       "      <td>244.296005</td>\n",
       "      <td>245.600006</td>\n",
       "      <td>237.119995</td>\n",
       "      <td>241.731995</td>\n",
       "      <td>241.731995</td>\n",
       "      <td>86250500</td>\n",
       "    </tr>\n",
       "    <tr>\n",
       "      <th>1255</th>\n",
       "      <td>2020-07-06</td>\n",
       "      <td>255.337997</td>\n",
       "      <td>275.558014</td>\n",
       "      <td>253.207993</td>\n",
       "      <td>274.316010</td>\n",
       "      <td>274.316010</td>\n",
       "      <td>102849500</td>\n",
       "    </tr>\n",
       "    <tr>\n",
       "      <th>1256</th>\n",
       "      <td>2020-07-07</td>\n",
       "      <td>281.002014</td>\n",
       "      <td>285.899994</td>\n",
       "      <td>267.342010</td>\n",
       "      <td>277.971985</td>\n",
       "      <td>277.971985</td>\n",
       "      <td>107448500</td>\n",
       "    </tr>\n",
       "    <tr>\n",
       "      <th>1257</th>\n",
       "      <td>2020-07-08</td>\n",
       "      <td>281.000000</td>\n",
       "      <td>283.451996</td>\n",
       "      <td>262.268005</td>\n",
       "      <td>273.175995</td>\n",
       "      <td>273.175995</td>\n",
       "      <td>81556500</td>\n",
       "    </tr>\n",
       "    <tr>\n",
       "      <th>1258</th>\n",
       "      <td>2020-07-09</td>\n",
       "      <td>279.398010</td>\n",
       "      <td>281.712006</td>\n",
       "      <td>270.256012</td>\n",
       "      <td>278.855988</td>\n",
       "      <td>278.855988</td>\n",
       "      <td>58588000</td>\n",
       "    </tr>\n",
       "  </tbody>\n",
       "</table>\n",
       "<p>1259 rows × 7 columns</p>\n",
       "</div>"
      ],
      "text/plain": [
       "            Date        Open        High         Low       Close   Adj Close  \\\n",
       "0     2015-07-10   52.444000   52.599998   51.563999   51.830002   51.830002   \n",
       "1     2015-07-13   52.450001   52.509998   51.209999   52.431999   52.431999   \n",
       "2     2015-07-14   52.419998   53.198002   52.102001   53.130001   53.130001   \n",
       "3     2015-07-15   53.348000   53.498001   52.416000   52.627998   52.627998   \n",
       "4     2015-07-16   52.844002   53.439999   52.632000   53.335999   53.335999   \n",
       "...          ...         ...         ...         ...         ...         ...   \n",
       "1254  2020-07-02  244.296005  245.600006  237.119995  241.731995  241.731995   \n",
       "1255  2020-07-06  255.337997  275.558014  253.207993  274.316010  274.316010   \n",
       "1256  2020-07-07  281.002014  285.899994  267.342010  277.971985  277.971985   \n",
       "1257  2020-07-08  281.000000  283.451996  262.268005  273.175995  273.175995   \n",
       "1258  2020-07-09  279.398010  281.712006  270.256012  278.855988  278.855988   \n",
       "\n",
       "         Volume  \n",
       "0      13054500  \n",
       "1      14801500  \n",
       "2       9538000  \n",
       "3      10108000  \n",
       "4       8080000  \n",
       "...         ...  \n",
       "1254   86250500  \n",
       "1255  102849500  \n",
       "1256  107448500  \n",
       "1257   81556500  \n",
       "1258   58588000  \n",
       "\n",
       "[1259 rows x 7 columns]"
      ]
     },
     "execution_count": 2,
     "metadata": {},
     "output_type": "execute_result"
    }
   ],
   "source": [
    "df=pd.read_csv(\"TSLA.csv\")\n",
    "print('Number of rows and columns:', df.shape)\n",
    "df"
   ]
  },
  {
   "cell_type": "code",
   "execution_count": 3,
   "metadata": {},
   "outputs": [
    {
     "data": {
      "image/png": "[encoded data removed]",
      "text/plain": [
       "<Figure size 432x288 with 1 Axes>"
      ]
     },
     "metadata": {
      "needs_background": "light"
     },
     "output_type": "display_data"
    }
   ],
   "source": [
    "plt.plot(df[['Close']])\n",
    "plt.xticks(range(0,df.shape[0],300),df['Date'].loc[::300],rotation=45)\n",
    "plt.title(\"Tesla Stock Price\",fontsize=18, fontweight='bold')\n",
    "plt.xlabel('Date',fontsize=18)\n",
    "plt.ylabel('Close Price (USD)')\n",
    "plt.show()"
   ]
  },
  {
   "cell_type": "code",
   "execution_count": 4,
   "metadata": {},
   "outputs": [],
   "source": [
    "# 80% training and 20% testing\n",
    "training_set = df.iloc[:1000, 4:5].values\n",
    "test_set = df.iloc[1000:, 4:5].values"
   ]
  },
  {
   "cell_type": "code",
   "execution_count": 5,
   "metadata": {},
   "outputs": [],
   "source": [
    "# Feature Scaling\n",
    "from sklearn.preprocessing import MinMaxScaler\n",
    "\n",
    "sc = MinMaxScaler(feature_range = (0, 1))\n",
    "training_set_scaled = sc.fit_transform(training_set)"
   ]
  },
  {
   "cell_type": "code",
   "execution_count": 6,
   "metadata": {},
   "outputs": [],
   "source": [
    "# Creating a data structure with 60 time-steps and 1 output\n",
    "X_train = []\n",
    "y_train = []\n",
    "for i in range(60, 1000):\n",
    "    X_train.append(training_set_scaled[i-60:i, 0])\n",
    "    y_train.append(training_set_scaled[i, 0])\n",
    "X_train, y_train = np.array(X_train), np.array(y_train)\n",
    "X_train = np.reshape(X_train, (X_train.shape[0], X_train.shape[1], 1))\n",
    "y_train = np.reshape(y_train, (y_train.shape[0], 1))\n",
    "\n"
   ]
  },
  {
   "cell_type": "code",
   "execution_count": 7,
   "metadata": {},
   "outputs": [
    {
     "name": "stdout",
     "output_type": "stream",
     "text": [
      "(259, 60, 1)\n"
     ]
    }
   ],
   "source": [
    "# Getting the predicted stock price of 2020\n",
    "\n",
    "dataset_train = df.iloc[:1000, 4:5]\n",
    "dataset_test = df.iloc[1000:, 4:5]\n",
    "dataset_total = pd.concat((dataset_train, dataset_test), axis = 0)\n",
    "\n",
    "\n",
    "inputs = dataset_total[len(dataset_total) - len(dataset_test) - 60:].values\n",
    "\n",
    "inputs = inputs.reshape(-1,1)\n",
    "inputs = sc.transform(inputs)\n",
    "X_test = []\n",
    "for i in range(60, 1259-1000+60):\n",
    "    X_test.append(inputs[i-60:i, 0])\n",
    "X_test = np.array(X_test)\n",
    "X_test = np.reshape(X_test, (X_test.shape[0], X_test.shape[1], 1))\n",
    "print(X_test.shape)\n",
    "# (259, 60, 1)"
   ]
  },
  {
   "cell_type": "code",
   "execution_count": 8,
   "metadata": {},
   "outputs": [],
   "source": [
    "X_train = torch.from_numpy(X_train).type(torch.Tensor)\n",
    "X_test = torch.from_numpy(X_test).type(torch.Tensor)\n",
    "y_train_lstm = torch.from_numpy(y_train).type(torch.Tensor)\n",
    "\n",
    "X_train = X_train.cuda()\n",
    "X_test = X_test.cuda()\n",
    "y_train_lstm = y_train_lstm.cuda()\n"
   ]
  },
  {
   "cell_type": "code",
   "execution_count": 9,
   "metadata": {},
   "outputs": [],
   "source": [
    "import torch\n",
    "import torch.nn as nn\n",
    "\n",
    "# hyperparameters\n",
    "input_dim = 1\n",
    "hidden_dim = 60 # 60 neurons\n",
    "num_layers = 4 # 4 layers\n",
    "output_dim = 1\n",
    "num_epochs = 100"
   ]
  },
  {
   "cell_type": "code",
   "execution_count": 10,
   "metadata": {},
   "outputs": [],
   "source": [
    "class LSTM(nn.Module):\n",
    "    def __init__(self, input_dim, hidden_dim, num_layers, output_dim,droprate):\n",
    "        super(LSTM, self).__init__()\n",
    "        self.hidden_dim = hidden_dim\n",
    "        self.num_layers = num_layers\n",
    "        \n",
    "        self.lstm = nn.LSTM(input_dim, hidden_dim, num_layers, dropout = droprate, batch_first=True)\n",
    "        self.fc = nn.Linear(hidden_dim, output_dim)\n",
    "\n",
    "    def forward(self, x):\n",
    "        h0 = torch.zeros(self.num_layers, x.size(0), self.hidden_dim).requires_grad_().cuda()\n",
    "        c0 = torch.zeros(self.num_layers, x.size(0), self.hidden_dim).requires_grad_().cuda()\n",
    "        out, (hn, cn) = self.lstm(x, (h0.detach(), c0.detach()))\n",
    "        out = self.fc(out[:, -1, :]) \n",
    "        return out"
   ]
  },
  {
   "cell_type": "code",
   "execution_count": 15,
   "metadata": {},
   "outputs": [],
   "source": [
    "model = LSTM(input_dim=input_dim, hidden_dim=hidden_dim, output_dim=output_dim, num_layers=num_layers,droprate = 0.2)\n",
    "model.cuda()\n",
    "\n",
    "criterion = torch.nn.MSELoss() #mse loss function\n",
    "optimiser = torch.optim.Adam(model.parameters(), lr=0.01)   # adam optimizer\n"
   ]
  },
  {
   "cell_type": "code",
   "execution_count": 16,
   "metadata": {},
   "outputs": [
    {
     "name": "stdout",
     "output_type": "stream",
     "text": [
      "Epoch  0 MSE:  0.4282144606113434\n",
      "Epoch  10 MSE:  0.0620485320687294\n",
      "Epoch  20 MSE:  0.057860758155584335\n",
      "Epoch  30 MSE:  0.03174809738993645\n",
      "Epoch  40 MSE:  0.01313750259578228\n",
      "Epoch  50 MSE:  0.00637309392914176\n",
      "Epoch  60 MSE:  0.005183547269552946\n",
      "Epoch  70 MSE:  0.004489440005272627\n",
      "Epoch  80 MSE:  0.0037097539752721786\n",
      "Epoch  90 MSE:  0.003388639073818922\n",
      "Epoch  99 MSE:  0.003254661103710532\n"
     ]
    }
   ],
   "source": [
    "hist = np.zeros(num_epochs)\n",
    "lstm = []\n",
    "    \n",
    "for t in range(num_epochs): \n",
    "    torch.manual_seed(0)\n",
    "    y_train_pred = model(X_train)\n",
    "    loss = criterion(y_train_pred, y_train_lstm)\n",
    "    if t%10 == 0 :\n",
    "        print(\"Epoch \", t, \"MSE: \", loss.item())\n",
    "    hist[t] = loss.item()\n",
    "    \n",
    "    optimiser.zero_grad()\n",
    "    loss.backward()\n",
    "    optimiser.step()\n",
    "print(\"Epoch \", t, \"MSE: \", loss.item())"
   ]
  },
  {
   "cell_type": "code",
   "execution_count": 17,
   "metadata": {},
   "outputs": [],
   "source": [
    "model = model.eval()\n",
    "predicted_stock_price = model(X_test)\n",
    "\n",
    "predicted_stock_price = predicted_stock_price.cpu()\n",
    "predicted_stock_price1 = sc.inverse_transform(predicted_stock_price.detach().numpy())"
   ]
  },
  {
   "cell_type": "code",
   "execution_count": 18,
   "metadata": {},
   "outputs": [
    {
     "data": {
      "image/png": "[encoded data removed]",
      "text/plain": [
       "<Figure size 432x288 with 1 Axes>"
      ]
     },
     "metadata": {
      "needs_background": "light"
     },
     "output_type": "display_data"
    }
   ],
   "source": [
    "# Visualising the results\n",
    "plt.plot(df.loc[1000:, 'Date'],dataset_test.values, color = 'red', label = 'Real TESLA Stock Price')\n",
    "plt.plot(df.loc[1000:, 'Date'],predicted_stock_price1, color = 'blue', label = 'Predicted TESLA Stock Price')\n",
    "plt.xticks(np.arange(0,300,100))\n",
    "plt.title('TESLA Stock Price Prediction')\n",
    "plt.xlabel('Time')\n",
    "plt.ylabel('TESLA Stock Price')\n",
    "plt.legend()\n",
    "plt.show()"
   ]
  },
  {
   "cell_type": "markdown",
   "metadata": {},
   "source": [
    "# Using 7-day lag"
   ]
  },
  {
   "cell_type": "code",
   "execution_count": 19,
   "metadata": {},
   "outputs": [
    {
     "name": "stdout",
     "output_type": "stream",
     "text": [
      "(934, 60, 1)\n"
     ]
    }
   ],
   "source": [
    "# Creating a data structure with 60 time-steps with 7-day lag and 1 output\n",
    "X_train = []\n",
    "y_train = []\n",
    "for i in range(60, 1000-6):\n",
    "    X_train.append(training_set_scaled[i-60:i, 0])\n",
    "    y_train.append(training_set_scaled[i+6, 0])\n",
    "X_train, y_train = np.array(X_train), np.array(y_train)\n",
    "X_train = np.reshape(X_train, (X_train.shape[0], X_train.shape[1], 1))\n",
    "y_train = np.reshape(y_train, (y_train.shape[0], 1))\n",
    "print(X_train.shape)\n",
    "#(934, 60, 1)"
   ]
  },
  {
   "cell_type": "code",
   "execution_count": 20,
   "metadata": {},
   "outputs": [
    {
     "name": "stdout",
     "output_type": "stream",
     "text": [
      "(259, 60, 1)\n"
     ]
    }
   ],
   "source": [
    "# Getting the predicted stock price of 2020\n",
    "\n",
    "dataset_train = df.iloc[:1000-6, 4:5]\n",
    "dataset_test = df.iloc[1000-6:, 4:5]\n",
    "dataset_total = pd.concat((dataset_train, dataset_test), axis = 0)\n",
    "\n",
    "\n",
    "inputs = dataset_total[len(dataset_total) - len(dataset_test) - 60:].values\n",
    "\n",
    "inputs = inputs.reshape(-1,1)\n",
    "inputs = sc.transform(inputs)\n",
    "X_test = []\n",
    "for i in range(60, 1259-1000+60):\n",
    "    X_test.append(inputs[i-60:i, 0])\n",
    "X_test = np.array(X_test)\n",
    "X_test = np.reshape(X_test, (X_test.shape[0], X_test.shape[1], 1))\n",
    "print(X_test.shape)\n",
    "# (259, 60, 1)"
   ]
  },
  {
   "cell_type": "code",
   "execution_count": 21,
   "metadata": {},
   "outputs": [],
   "source": [
    "X_train = torch.from_numpy(X_train).type(torch.Tensor)\n",
    "X_test = torch.from_numpy(X_test).type(torch.Tensor)\n",
    "y_train_lstm = torch.from_numpy(y_train).type(torch.Tensor)\n",
    "\n",
    "X_train = X_train.cuda()\n",
    "X_test = X_test.cuda()\n",
    "y_train_lstm = y_train_lstm.cuda()"
   ]
  },
  {
   "cell_type": "code",
   "execution_count": 22,
   "metadata": {},
   "outputs": [],
   "source": [
    "model1 = LSTM(input_dim=input_dim, hidden_dim=hidden_dim, output_dim=output_dim, num_layers=num_layers,droprate = 0.2)\n",
    "model1.cuda()\n",
    "\n",
    "criterion = torch.nn.MSELoss()\n",
    "optimiser = torch.optim.Adam(model1.parameters(), lr=0.01)"
   ]
  },
  {
   "cell_type": "code",
   "execution_count": 23,
   "metadata": {},
   "outputs": [
    {
     "name": "stdout",
     "output_type": "stream",
     "text": [
      "Epoch  0 MSE:  0.4298517107963562\n",
      "Epoch  10 MSE:  0.06770633161067963\n",
      "Epoch  20 MSE:  0.057545918971300125\n",
      "Epoch  30 MSE:  0.032778069376945496\n",
      "Epoch  40 MSE:  0.011045243591070175\n",
      "Epoch  50 MSE:  0.009931142441928387\n",
      "Epoch  60 MSE:  0.00972677767276764\n",
      "Epoch  70 MSE:  0.009276706725358963\n",
      "Epoch  80 MSE:  0.009034091606736183\n",
      "Epoch  90 MSE:  0.008856195025146008\n",
      "Epoch  99 MSE:  0.00864365603774786\n"
     ]
    }
   ],
   "source": [
    "hist = np.zeros(num_epochs)\n",
    "lstm = []\n",
    "torch.manual_seed(0)\n",
    "\n",
    "for t in range(num_epochs):\n",
    "    model1.train()\n",
    "    y_train_pred = model1(X_train)\n",
    "    \n",
    "    loss = criterion(y_train_pred, y_train_lstm)\n",
    "    if t%10 == 0 :\n",
    "        print(\"Epoch \", t, \"MSE: \", loss.item())\n",
    "    hist[t] = loss.item()\n",
    "\n",
    "    optimiser.zero_grad()\n",
    "    loss.backward()\n",
    "    optimiser.step()\n",
    "print(\"Epoch \", t, \"MSE: \", loss.item())"
   ]
  },
  {
   "cell_type": "code",
   "execution_count": 24,
   "metadata": {},
   "outputs": [],
   "source": [
    "model1 = model1.eval()\n",
    "predicted_stock_price = model1(X_test)\n",
    "\n",
    "predicted_stock_price = predicted_stock_price.cpu()\n",
    "predicted_stock_price = sc.inverse_transform(predicted_stock_price.detach().numpy())"
   ]
  },
  {
   "cell_type": "code",
   "execution_count": 25,
   "metadata": {},
   "outputs": [
    {
     "data": {
      "image/png": "[encoded data removed]",
      "text/plain": [
       "<Figure size 432x288 with 1 Axes>"
      ]
     },
     "metadata": {
      "needs_background": "light"
     },
     "output_type": "display_data"
    }
   ],
   "source": [
    "# Visualising the results\n",
    "plt.plot(df.loc[1000-6:, 'Date'],dataset_test.values, color = 'red', label = 'Real TESLA Stock Price')\n",
    "plt.plot(df.loc[1000:, 'Date'],predicted_stock_price, color = 'blue', label = 'Predicted TESLA Stock Price')\n",
    "plt.xticks(np.arange(0,300,100))\n",
    "plt.title('TESLA Stock Price Prediction')\n",
    "plt.xlabel('Time')\n",
    "plt.ylabel('TESLA Stock Price')\n",
    "plt.legend()\n",
    "plt.show()"
   ]
  },
  {
   "cell_type": "markdown",
   "metadata": {},
   "source": [
    "We see that the results are worse by lagging the date by 7 as the MSE increases. "
   ]
  },
  {
   "cell_type": "markdown",
   "metadata": {},
   "source": [
    "# Using 14-day lag"
   ]
  },
  {
   "cell_type": "code",
   "execution_count": 26,
   "metadata": {},
   "outputs": [
    {
     "name": "stdout",
     "output_type": "stream",
     "text": [
      "(259, 60, 1)\n"
     ]
    }
   ],
   "source": [
    "# Creating a data structure with 60 time-steps and 1 output\n",
    "X_train = []\n",
    "y_train = []\n",
    "for i in range(60, 1000-13):\n",
    "    X_train.append(training_set_scaled[i-60:i, 0])\n",
    "    y_train.append(training_set_scaled[i+13, 0])\n",
    "X_train, y_train = np.array(X_train), np.array(y_train)\n",
    "X_train = np.reshape(X_train, (X_train.shape[0], X_train.shape[1], 1))\n",
    "y_train = np.reshape(y_train, (y_train.shape[0], 1))\n",
    "\n",
    "\n",
    "# Getting the predicted stock price of 2020\n",
    "\n",
    "dataset_train = df.iloc[:1000-13, 4:5]\n",
    "dataset_test = df.iloc[1000-13:, 4:5]\n",
    "dataset_total = pd.concat((dataset_train, dataset_test), axis = 0)\n",
    "\n",
    "\n",
    "inputs = dataset_total[len(dataset_total) - len(dataset_test) - 60:].values\n",
    "\n",
    "inputs = inputs.reshape(-1,1)\n",
    "inputs = sc.transform(inputs)\n",
    "X_test = []\n",
    "for i in range(60, 1259-1000+60):\n",
    "    X_test.append(inputs[i-60:i, 0])\n",
    "X_test = np.array(X_test)\n",
    "X_test = np.reshape(X_test, (X_test.shape[0], X_test.shape[1], 1))\n",
    "print(X_test.shape)\n",
    "# (259, 60, 1)"
   ]
  },
  {
   "cell_type": "code",
   "execution_count": 27,
   "metadata": {},
   "outputs": [],
   "source": [
    "X_train = torch.from_numpy(X_train).type(torch.Tensor)\n",
    "X_test = torch.from_numpy(X_test).type(torch.Tensor)\n",
    "y_train_lstm = torch.from_numpy(y_train).type(torch.Tensor)\n",
    "\n",
    "X_train = X_train.cuda()\n",
    "X_test = X_test.cuda()\n",
    "y_train_lstm = y_train_lstm.cuda()"
   ]
  },
  {
   "cell_type": "code",
   "execution_count": 28,
   "metadata": {},
   "outputs": [],
   "source": [
    "model2 = LSTM(input_dim=input_dim, hidden_dim=hidden_dim, output_dim=output_dim, num_layers=num_layers,droprate = 0.2)\n",
    "model2.cuda()\n",
    "\n",
    "criterion = torch.nn.MSELoss()\n",
    "optimiser = torch.optim.Adam(model2.parameters(), lr=0.01)"
   ]
  },
  {
   "cell_type": "code",
   "execution_count": 29,
   "metadata": {},
   "outputs": [
    {
     "name": "stdout",
     "output_type": "stream",
     "text": [
      "Epoch  0 MSE:  0.432029664516449\n",
      "Epoch  10 MSE:  0.06366360187530518\n",
      "Epoch  20 MSE:  0.05890260264277458\n",
      "Epoch  30 MSE:  0.04301665723323822\n",
      "Epoch  40 MSE:  0.018216479569673538\n",
      "Epoch  50 MSE:  0.015051139518618584\n",
      "Epoch  60 MSE:  0.013953314162790775\n",
      "Epoch  70 MSE:  0.013630320318043232\n",
      "Epoch  80 MSE:  0.013195855543017387\n",
      "Epoch  90 MSE:  0.012655461207032204\n",
      "Epoch  99 MSE:  0.012668429873883724\n"
     ]
    }
   ],
   "source": [
    "hist = np.zeros(num_epochs)\n",
    "lstm = []\n",
    "torch.manual_seed(0)\n",
    "\n",
    "for t in range(num_epochs):\n",
    "    y_train_pred = model2(X_train)\n",
    "    \n",
    "    loss = criterion(y_train_pred, y_train_lstm)\n",
    "    if t%10 == 0 :\n",
    "        print(\"Epoch \", t, \"MSE: \", loss.item())\n",
    "    hist[t] = loss.item()\n",
    "\n",
    "    loss.backward()\n",
    "    optimiser.step()\n",
    "    optimiser.zero_grad()\n",
    "print(\"Epoch \", t, \"MSE: \", loss.item())"
   ]
  },
  {
   "cell_type": "code",
   "execution_count": 30,
   "metadata": {},
   "outputs": [],
   "source": [
    "model2.eval()\n",
    "predicted_stock_price = model2(X_test)\n",
    "\n",
    "predicted_stock_price = predicted_stock_price.cpu()\n",
    "predicted_stock_price = sc.inverse_transform(predicted_stock_price.detach().numpy())"
   ]
  },
  {
   "cell_type": "code",
   "execution_count": 31,
   "metadata": {},
   "outputs": [
    {
     "data": {
      "image/png": "[encoded data removed]",
      "text/plain": [
       "<Figure size 432x288 with 1 Axes>"
      ]
     },
     "metadata": {
      "needs_background": "light"
     },
     "output_type": "display_data"
    }
   ],
   "source": [
    "# Visualising the results\n",
    "plt.plot(df.loc[1000-13:, 'Date'],dataset_test.values, color = 'red', label = 'Real TESLA Stock Price')\n",
    "plt.plot(df.loc[1000:, 'Date'],predicted_stock_price, color = 'blue', label = 'Predicted TESLA Stock Price')\n",
    "plt.xticks(np.arange(0,300,100))\n",
    "plt.title('TESLA Stock Price Prediction')\n",
    "plt.xlabel('Time')\n",
    "plt.ylabel('TESLA Stock Price')\n",
    "plt.legend()\n",
    "plt.show()"
   ]
  },
  {
   "cell_type": "markdown",
   "metadata": {},
   "source": [
    "We see that the results are worse by lagging the date by 14 as the MSE increases. Therefore，the original model with lag = 1 day is prefered.  "
   ]
  },
  {
   "cell_type": "markdown",
   "metadata": {},
   "source": [
    "# using different hyperparameters"
   ]
  },
  {
   "cell_type": "markdown",
   "metadata": {},
   "source": [
    "We use data with 1-day lag because it produces the best output."
   ]
  },
  {
   "cell_type": "markdown",
   "metadata": {},
   "source": [
    "First, we compare the results of using 4 and 6 hidden layers, holding all other hyperparameters constant"
   ]
  },
  {
   "cell_type": "code",
   "execution_count": 32,
   "metadata": {},
   "outputs": [],
   "source": [
    "# hyperparameters\n",
    "input_dim = 1\n",
    "hidden_dim = 60 # 60 neurons\n",
    "num_layers = 6 # 6 layers\n",
    "output_dim = 1\n",
    "num_epochs = 100"
   ]
  },
  {
   "cell_type": "code",
   "execution_count": 33,
   "metadata": {},
   "outputs": [],
   "source": [
    "# Creating a data structure with 60 time-steps and 1 output\n",
    "X_train = []\n",
    "y_train = []\n",
    "for i in range(60, 1000):\n",
    "    X_train.append(training_set_scaled[i-60:i, 0])\n",
    "    y_train.append(training_set_scaled[i, 0])\n",
    "X_train, y_train = np.array(X_train), np.array(y_train)\n",
    "X_train = np.reshape(X_train, (X_train.shape[0], X_train.shape[1], 1))\n",
    "y_train = np.reshape(y_train, (y_train.shape[0], 1))\n",
    "\n",
    "# Getting the predicted stock price of 2020\n",
    "\n",
    "dataset_train = df.iloc[:1000, 4:5]\n",
    "dataset_test = df.iloc[1000:, 4:5]\n",
    "dataset_total = pd.concat((dataset_train, dataset_test), axis = 0)\n",
    "\n",
    "\n",
    "inputs = dataset_total[len(dataset_total) - len(dataset_test) - 60:].values\n",
    "\n",
    "inputs = inputs.reshape(-1,1)\n",
    "inputs = sc.transform(inputs)\n",
    "X_test = []\n",
    "for i in range(60, 1259-1000+60):\n",
    "    X_test.append(inputs[i-60:i, 0])\n",
    "X_test = np.array(X_test)\n",
    "X_test = np.reshape(X_test, (X_test.shape[0], X_test.shape[1], 1))\n",
    "\n",
    "X_train = torch.from_numpy(X_train).type(torch.Tensor)\n",
    "X_test = torch.from_numpy(X_test).type(torch.Tensor)\n",
    "y_train_lstm = torch.from_numpy(y_train).type(torch.Tensor)\n",
    "\n",
    "X_train = X_train.cuda()\n",
    "X_test = X_test.cuda()\n",
    "y_train_lstm = y_train_lstm.cuda()"
   ]
  },
  {
   "cell_type": "code",
   "execution_count": 46,
   "metadata": {},
   "outputs": [],
   "source": [
    "model3 = LSTM(input_dim=input_dim, hidden_dim=hidden_dim, output_dim=output_dim, num_layers=num_layers,droprate = 0.2)\n",
    "model3.cuda()\n",
    "\n",
    "criterion = torch.nn.MSELoss()\n",
    "optimiser = torch.optim.Adam(model3.parameters(), lr=0.01)"
   ]
  },
  {
   "cell_type": "code",
   "execution_count": 47,
   "metadata": {},
   "outputs": [
    {
     "name": "stdout",
     "output_type": "stream",
     "text": [
      "Epoch  0 MSE:  0.26199811697006226\n",
      "Epoch  10 MSE:  0.05613972991704941\n",
      "Epoch  20 MSE:  0.056207671761512756\n",
      "Epoch  30 MSE:  0.05599557235836983\n",
      "Epoch  40 MSE:  0.05570382997393608\n",
      "Epoch  50 MSE:  0.052133575081825256\n",
      "Epoch  60 MSE:  0.019479045644402504\n",
      "Epoch  70 MSE:  0.009762240573763847\n",
      "Epoch  80 MSE:  0.006017046514898539\n",
      "Epoch  90 MSE:  0.004475974943488836\n",
      "Epoch  99 MSE:  0.0037277271039783955\n"
     ]
    }
   ],
   "source": [
    "hist = np.zeros(num_epochs)\n",
    "lstm = []\n",
    "torch.manual_seed(0)\n",
    "\n",
    "for t in range(num_epochs): \n",
    "    y_train_pred = model3(X_train)\n",
    "    loss = criterion(y_train_pred, y_train_lstm)\n",
    "    if t%10 == 0 :\n",
    "        print(\"Epoch \", t, \"MSE: \", loss.item())\n",
    "    hist[t] = loss.item()\n",
    "    \n",
    "    optimiser.zero_grad()\n",
    "    loss.backward()\n",
    "    optimiser.step()\n",
    "print(\"Epoch \", t, \"MSE: \", loss.item())"
   ]
  },
  {
   "cell_type": "code",
   "execution_count": 48,
   "metadata": {},
   "outputs": [],
   "source": [
    "model3 = model3.eval()\n",
    "predicted_stock_price = model3(X_test)\n",
    "\n",
    "predicted_stock_price = predicted_stock_price.cpu()\n",
    "predicted_stock_price = sc.inverse_transform(predicted_stock_price.detach().numpy())"
   ]
  },
  {
   "cell_type": "code",
   "execution_count": 49,
   "metadata": {},
   "outputs": [
    {
     "data": {
      "image/png": "[encoded data removed]",
      "text/plain": [
       "<Figure size 432x288 with 1 Axes>"
      ]
     },
     "metadata": {
      "needs_background": "light"
     },
     "output_type": "display_data"
    }
   ],
   "source": [
    "# Visualising the results\n",
    "plt.plot(df.loc[1000:, 'Date'],dataset_test.values, color = 'red', label = 'Real TESLA Stock Price')\n",
    "plt.plot(df.loc[1000:, 'Date'],predicted_stock_price1, color = 'blue', label = 'Predicted TESLA Stock Price -- 4 layers')\n",
    "plt.plot(df.loc[1000:, 'Date'],predicted_stock_price, color = 'green', label = 'Predicted TESLA Stock Price -- 6 layers')\n",
    "plt.xticks(np.arange(0,300,100))\n",
    "plt.title('TESLA Stock Price Prediction')\n",
    "plt.xlabel('Time')\n",
    "plt.ylabel('TESLA Stock Price')\n",
    "plt.legend()\n",
    "plt.show()"
   ]
  },
  {
   "cell_type": "markdown",
   "metadata": {},
   "source": [
    "# Result: 4 hidden layers seems to be the better choice since it has lower MSE. "
   ]
  },
  {
   "cell_type": "markdown",
   "metadata": {},
   "source": [
    "Second, we compare the results of a drop out rate of 0.2 and 0.5, holding all other hyperparamters constant "
   ]
  },
  {
   "cell_type": "code",
   "execution_count": 50,
   "metadata": {},
   "outputs": [],
   "source": [
    "# hyperparameters\n",
    "input_dim = 1\n",
    "hidden_dim = 60 # 60 neurons\n",
    "num_layers = 6 # 4 layers\n",
    "output_dim = 1\n",
    "num_epochs = 100"
   ]
  },
  {
   "cell_type": "code",
   "execution_count": 51,
   "metadata": {},
   "outputs": [],
   "source": [
    "model4 = LSTM(input_dim=input_dim, hidden_dim=hidden_dim, output_dim=output_dim, num_layers=num_layers,droprate = 0.5)\n",
    "model4.cuda()\n",
    "\n",
    "criterion = torch.nn.MSELoss()\n",
    "optimiser = torch.optim.Adam(model4.parameters(), lr=0.01)\n"
   ]
  },
  {
   "cell_type": "code",
   "execution_count": 52,
   "metadata": {},
   "outputs": [
    {
     "name": "stdout",
     "output_type": "stream",
     "text": [
      "Epoch  0 MSE:  0.26174691319465637\n",
      "Epoch  10 MSE:  0.05760493129491806\n",
      "Epoch  20 MSE:  0.05660923197865486\n",
      "Epoch  30 MSE:  0.05602937191724777\n",
      "Epoch  40 MSE:  0.05591210350394249\n",
      "Epoch  50 MSE:  0.05543959513306618\n",
      "Epoch  60 MSE:  0.04783167690038681\n",
      "Epoch  70 MSE:  0.03226060792803764\n",
      "Epoch  80 MSE:  0.015007324516773224\n",
      "Epoch  90 MSE:  0.011270605027675629\n",
      "Epoch  99 MSE:  0.007373714819550514\n"
     ]
    }
   ],
   "source": [
    "hist = np.zeros(num_epochs)\n",
    "lstm = []\n",
    "\n",
    "for t in range(num_epochs): \n",
    "    y_train_pred = model4(X_train)\n",
    "    loss = criterion(y_train_pred, y_train_lstm)\n",
    "    if t%10 == 0 :\n",
    "        print(\"Epoch \", t, \"MSE: \", loss.item())\n",
    "    hist[t] = loss.item()\n",
    "    \n",
    "    optimiser.zero_grad()\n",
    "    loss.backward()\n",
    "    optimiser.step()\n",
    "print(\"Epoch \", t, \"MSE: \", loss.item())"
   ]
  },
  {
   "cell_type": "code",
   "execution_count": 53,
   "metadata": {},
   "outputs": [],
   "source": [
    "model4 = model4.eval()\n",
    "predicted_stock_price = model4(X_test)\n",
    "\n",
    "predicted_stock_price = predicted_stock_price.cpu()\n",
    "predicted_stock_price = sc.inverse_transform(predicted_stock_price.detach().numpy())"
   ]
  },
  {
   "cell_type": "code",
   "execution_count": 54,
   "metadata": {},
   "outputs": [
    {
     "data": {
      "image/png": "[encoded data removed]",
      "text/plain": [
       "<Figure size 432x288 with 1 Axes>"
      ]
     },
     "metadata": {
      "needs_background": "light"
     },
     "output_type": "display_data"
    }
   ],
   "source": [
    "# Visualising the results\n",
    "plt.plot(df.loc[1000:, 'Date'],dataset_test.values, color = 'red', label = 'Real TESLA Stock Price')\n",
    "plt.plot(df.loc[1000:, 'Date'],predicted_stock_price1, color = 'blue', label = 'Predicted TESLA Stock Price -- dropout = 0.2')\n",
    "plt.plot(df.loc[1000:, 'Date'],predicted_stock_price, color = 'green', label = 'Predicted TESLA Stock Price -- dropout = 0.5')\n",
    "plt.xticks(np.arange(0,300,100))\n",
    "plt.title('TESLA Stock Price Prediction')\n",
    "plt.xlabel('Time')\n",
    "plt.ylabel('TESLA Stock Price')\n",
    "plt.legend()\n",
    "plt.show()"
   ]
  },
  {
   "cell_type": "markdown",
   "metadata": {},
   "source": [
    "# Result: dropout rate of 0.2 is a better choice since it has lower MSE. "
   ]
  },
  {
   "cell_type": "markdown",
   "metadata": {},
   "source": [
    "# Predict the stock price for the next two weeks"
   ]
  },
  {
   "cell_type": "code",
   "execution_count": 55,
   "metadata": {},
   "outputs": [
    {
     "data": {
      "text/plain": [
       "'2020-07-09'"
      ]
     },
     "execution_count": 55,
     "metadata": {},
     "output_type": "execute_result"
    }
   ],
   "source": [
    "# get the last date\n",
    "dates = df['Date']\n",
    "dates[len(dates)-1]"
   ]
  },
  {
   "cell_type": "code",
   "execution_count": 56,
   "metadata": {},
   "outputs": [],
   "source": [
    "first_day = '2020-07-10'\n",
    "last_day = '2020-07-23'"
   ]
  },
  {
   "cell_type": "code",
   "execution_count": 57,
   "metadata": {},
   "outputs": [],
   "source": [
    "date_list = pd.date_range(start= first_day,end=last_day)"
   ]
  },
  {
   "cell_type": "code",
   "execution_count": 58,
   "metadata": {},
   "outputs": [],
   "source": [
    "date_list = [i.strftime(\"%Y-%m-%d\") for i in date_list]"
   ]
  },
  {
   "cell_type": "code",
   "execution_count": 59,
   "metadata": {},
   "outputs": [
    {
     "data": {
      "text/plain": [
       "['2020-07-10',\n",
       " '2020-07-11',\n",
       " '2020-07-12',\n",
       " '2020-07-13',\n",
       " '2020-07-14',\n",
       " '2020-07-15',\n",
       " '2020-07-16',\n",
       " '2020-07-17',\n",
       " '2020-07-18',\n",
       " '2020-07-19',\n",
       " '2020-07-20',\n",
       " '2020-07-21',\n",
       " '2020-07-22',\n",
       " '2020-07-23']"
      ]
     },
     "execution_count": 59,
     "metadata": {},
     "output_type": "execute_result"
    }
   ],
   "source": [
    "date_list"
   ]
  },
  {
   "cell_type": "code",
   "execution_count": 60,
   "metadata": {},
   "outputs": [],
   "source": [
    "indexes = [1,2,8,9]\n",
    "for ind in sorted(indexes, reverse=True):\n",
    "    del date_list[ind]"
   ]
  },
  {
   "cell_type": "code",
   "execution_count": 61,
   "metadata": {},
   "outputs": [
    {
     "data": {
      "text/plain": [
       "['2020-07-10',\n",
       " '2020-07-13',\n",
       " '2020-07-14',\n",
       " '2020-07-15',\n",
       " '2020-07-16',\n",
       " '2020-07-17',\n",
       " '2020-07-20',\n",
       " '2020-07-21',\n",
       " '2020-07-22',\n",
       " '2020-07-23']"
      ]
     },
     "execution_count": 61,
     "metadata": {},
     "output_type": "execute_result"
    }
   ],
   "source": [
    "date_list"
   ]
  },
  {
   "cell_type": "markdown",
   "metadata": {},
   "source": [
    "The model is using 10-day lag since there are 10 days to predict."
   ]
  },
  {
   "cell_type": "code",
   "execution_count": 62,
   "metadata": {},
   "outputs": [],
   "source": [
    "sc = MinMaxScaler(feature_range = (0, 1))\n",
    "\n",
    "training_set = df.iloc[:1259, 4:5].values\n",
    "test_set = df.iloc[1259:, 4:5].values\n",
    "training_set_scaled = sc.fit_transform(training_set)"
   ]
  },
  {
   "cell_type": "code",
   "execution_count": 63,
   "metadata": {},
   "outputs": [
    {
     "name": "stdout",
     "output_type": "stream",
     "text": [
      "(10, 60, 1)\n"
     ]
    }
   ],
   "source": [
    "# Creating a data structure with 60 time-steps and 1 output\n",
    "X_train = []\n",
    "y_train = []\n",
    "for i in range(60, 1259-9):\n",
    "    X_train.append(training_set_scaled[i-60:i, 0])\n",
    "    y_train.append(training_set_scaled[i+9, 0])\n",
    "X_train, y_train = np.array(X_train), np.array(y_train)\n",
    "X_train = np.reshape(X_train, (X_train.shape[0], X_train.shape[1], 1))\n",
    "y_train = np.reshape(y_train, (y_train.shape[0], 1))\n",
    "\n",
    "# Getting the predicted stock price of 2020\n",
    "\n",
    "dataset_train = df.iloc[:1259-9, 4:5]\n",
    "dataset_test = df.iloc[1259-9:, 4:5]\n",
    "dataset_total = pd.concat((dataset_train, dataset_test), axis = 0)\n",
    "\n",
    "\n",
    "inputs = dataset_total[len(dataset_total) - len(dataset_test) - 60:].values\n",
    "\n",
    "inputs = inputs.reshape(-1,1)\n",
    "inputs = sc.transform(inputs)\n",
    "X_test = []\n",
    "for i in range(60, 10+60):\n",
    "    X_test.append(inputs[i-60:i, 0])\n",
    "X_test = np.array(X_test)\n",
    "X_test = np.reshape(X_test, (X_test.shape[0], X_test.shape[1], 1))\n",
    "print(X_test.shape)\n",
    "# (10, 60, 1)"
   ]
  },
  {
   "cell_type": "code",
   "execution_count": 64,
   "metadata": {},
   "outputs": [],
   "source": [
    "X_train = torch.from_numpy(X_train).type(torch.Tensor)\n",
    "X_test = torch.from_numpy(X_test).type(torch.Tensor)\n",
    "y_train_lstm = torch.from_numpy(y_train).type(torch.Tensor)\n",
    "\n",
    "X_train = X_train.cuda()\n",
    "X_test = X_test.cuda()\n",
    "y_train_lstm = y_train_lstm.cuda()"
   ]
  },
  {
   "cell_type": "code",
   "execution_count": 65,
   "metadata": {},
   "outputs": [],
   "source": [
    "# hyperparameters\n",
    "input_dim = 1\n",
    "hidden_dim = 60 # 60 neurons\n",
    "num_layers = 4 # 4 layers\n",
    "output_dim = 1\n",
    "num_epochs = 100"
   ]
  },
  {
   "cell_type": "code",
   "execution_count": 66,
   "metadata": {},
   "outputs": [],
   "source": [
    "model5 = LSTM(input_dim=input_dim, hidden_dim=hidden_dim, output_dim=output_dim, num_layers=num_layers,droprate = 0.2)\n",
    "model5.cuda()\n",
    "\n",
    "criterion = torch.nn.MSELoss() #mse loss function\n",
    "optimiser = torch.optim.Adam(model5.parameters(), lr=0.01)   # adam optimizer"
   ]
  },
  {
   "cell_type": "code",
   "execution_count": 67,
   "metadata": {},
   "outputs": [
    {
     "name": "stdout",
     "output_type": "stream",
     "text": [
      "Epoch  0 MSE:  0.08058299124240875\n",
      "Epoch  10 MSE:  0.018926937133073807\n",
      "Epoch  20 MSE:  0.018227707594633102\n",
      "Epoch  30 MSE:  0.015528974123299122\n",
      "Epoch  40 MSE:  0.006217013578861952\n",
      "Epoch  50 MSE:  0.003360681002959609\n",
      "Epoch  60 MSE:  0.0027897367253899574\n",
      "Epoch  70 MSE:  0.0023492928594350815\n",
      "Epoch  80 MSE:  0.0020478966180235147\n",
      "Epoch  90 MSE:  0.0022423395421355963\n",
      "Epoch  99 MSE:  0.0016980621730908751\n"
     ]
    }
   ],
   "source": [
    "hist = np.zeros(num_epochs)\n",
    "lstm = []\n",
    "\n",
    "for t in range(num_epochs): \n",
    "    y_train_pred = model5(X_train)\n",
    "    loss = criterion(y_train_pred, y_train_lstm)\n",
    "    if t%10 == 0 :\n",
    "        print(\"Epoch \", t, \"MSE: \", loss.item())\n",
    "    hist[t] = loss.item()\n",
    "    \n",
    "    optimiser.zero_grad()\n",
    "    loss.backward()\n",
    "    optimiser.step()\n",
    "print(\"Epoch \", t, \"MSE: \", loss.item())"
   ]
  },
  {
   "cell_type": "code",
   "execution_count": 68,
   "metadata": {},
   "outputs": [],
   "source": [
    "model5 = model5.eval()\n",
    "predicted_stock_price = model5(X_test)\n",
    "\n",
    "predicted_stock_price = predicted_stock_price.cpu()\n",
    "predicted_stock_price = sc.inverse_transform(predicted_stock_price.detach().numpy())"
   ]
  },
  {
   "cell_type": "code",
   "execution_count": 69,
   "metadata": {},
   "outputs": [
    {
     "data": {
      "image/png": "[encoded data removed]",
      "text/plain": [
       "<Figure size 432x288 with 1 Axes>"
      ]
     },
     "metadata": {
      "needs_background": "light"
     },
     "output_type": "display_data"
    }
   ],
   "source": [
    "# Visualising the results\n",
    "plt.plot(date_list,predicted_stock_price, color = 'green', label = 'Predicted TESLA Stock Price ')\n",
    "plt.xticks(np.arange(0,10,3))\n",
    "plt.title('TESLA Stock Price Prediction')\n",
    "plt.xlabel('Time')\n",
    "plt.ylabel('TESLA Stock Price')\n",
    "plt.legend()\n",
    "plt.show()"
   ]
  },
  {
   "cell_type": "markdown",
   "metadata": {},
   "source": [
    "The actual price of Tesla stock on 2020-7-10 is 279.20 and on 2020-7-23 is 335.79. Therefore, the model is pretty accurate. However, I am using the entire data minus the last 10 days as the training set since the model will not perform very well when I do not include data that are recent, as seen from previous examples. "
   ]
  },
  {
   "cell_type": "code",
   "execution_count": null,
   "metadata": {},
   "outputs": [],
   "source": []
  }
 ],
 "metadata": {
  "kernelspec": {
   "display_name": "Python 3",
   "language": "python",
   "name": "python3"
  },
  "language_info": {
   "codemirror_mode": {
    "name": "ipython",
    "version": 3
   },
   "file_extension": ".py",
   "mimetype": "text/x-python",
   "name": "python",
   "nbconvert_exporter": "python",
   "pygments_lexer": "ipython3",
   "version": "3.8.5"
  }
 },
 "nbformat": 4,
 "nbformat_minor": 4
}
